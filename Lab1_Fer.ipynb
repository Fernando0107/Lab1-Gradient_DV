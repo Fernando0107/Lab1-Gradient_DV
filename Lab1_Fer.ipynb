{
 "cells": [
  {
   "cell_type": "markdown",
   "metadata": {},
   "source": [
    "# Lab No.1"
   ]
  },
  {
   "cell_type": "markdown",
   "metadata": {},
   "source": [
    "## Juan Fernando González\n",
    "20170085"
   ]
  },
  {
   "cell_type": "markdown",
   "metadata": {},
   "source": [
    "## Libraries"
   ]
  },
  {
   "cell_type": "code",
   "execution_count": 1,
   "metadata": {},
   "outputs": [],
   "source": [
    "# Libraries\n",
    "\n",
    "import pandas as pd\n",
    "import numpy as np\n",
    "from numpy.linalg import inv\n",
    "\n",
    "import matplotlib.pyplot as plt\n",
    "%matplotlib inline"
   ]
  },
  {
   "cell_type": "markdown",
   "metadata": {},
   "source": [
    "## Files"
   ]
  },
  {
   "cell_type": "code",
   "execution_count": 2,
   "metadata": {},
   "outputs": [],
   "source": [
    "\n",
    "filepath = r'lab1\\\\'\n",
    "df1 = pd.read_csv(filepath + 'los-angeles_9-24-2016_9-30-2017.csv')\n",
    "df2 = pd.read_csv(filepath + 'new-york_9-24-2016_9-30-2017.csv')"
   ]
  },
  {
   "cell_type": "markdown",
   "metadata": {},
   "source": [
    "Let's see the shape of the two Dataframes to see if they can concatenate."
   ]
  },
  {
   "cell_type": "code",
   "execution_count": 3,
   "metadata": {},
   "outputs": [
    {
     "name": "stdout",
     "output_type": "stream",
     "text": [
      "Dataframe 1 shape:  (62, 25)\n",
      "Dataframe 2 shape: (112, 25)\n"
     ]
    }
   ],
   "source": [
    "# Shape\n",
    "\n",
    "print('Dataframe 1 shape: ',df1.shape)\n",
    "print('Dataframe 2 shape:',df2.shape)"
   ]
  },
  {
   "cell_type": "markdown",
   "metadata": {},
   "source": [
    "As we can see, both have different number of rows, but the same size in columns, and that's what we need to concatenate them."
   ]
  },
  {
   "cell_type": "code",
   "execution_count": 4,
   "metadata": {},
   "outputs": [
    {
     "name": "stdout",
     "output_type": "stream",
     "text": [
      "(174, 25)\n"
     ]
    },
    {
     "data": {
      "text/html": [
       "<div>\n",
       "<style scoped>\n",
       "    .dataframe tbody tr th:only-of-type {\n",
       "        vertical-align: middle;\n",
       "    }\n",
       "\n",
       "    .dataframe tbody tr th {\n",
       "        vertical-align: top;\n",
       "    }\n",
       "\n",
       "    .dataframe thead th {\n",
       "        text-align: right;\n",
       "    }\n",
       "</style>\n",
       "<table border=\"1\" class=\"dataframe\">\n",
       "  <thead>\n",
       "    <tr style=\"text-align: right;\">\n",
       "      <th></th>\n",
       "      <th>Commodity Name</th>\n",
       "      <th>City Name</th>\n",
       "      <th>Type</th>\n",
       "      <th>Package</th>\n",
       "      <th>Variety</th>\n",
       "      <th>Sub Variety</th>\n",
       "      <th>Grade</th>\n",
       "      <th>Date</th>\n",
       "      <th>Low Price</th>\n",
       "      <th>High Price</th>\n",
       "      <th>...</th>\n",
       "      <th>Color</th>\n",
       "      <th>Environment</th>\n",
       "      <th>Unit of Sale</th>\n",
       "      <th>Quality</th>\n",
       "      <th>Condition</th>\n",
       "      <th>Appearance</th>\n",
       "      <th>Storage</th>\n",
       "      <th>Crop</th>\n",
       "      <th>Repack</th>\n",
       "      <th>Trans Mode</th>\n",
       "    </tr>\n",
       "  </thead>\n",
       "  <tbody>\n",
       "    <tr>\n",
       "      <th>0</th>\n",
       "      <td>PUMPKINS</td>\n",
       "      <td>LOS ANGELES</td>\n",
       "      <td>NaN</td>\n",
       "      <td>24 inch bins</td>\n",
       "      <td>HOWDEN TYPE</td>\n",
       "      <td>NaN</td>\n",
       "      <td>NaN</td>\n",
       "      <td>09/24/2016</td>\n",
       "      <td>120.0</td>\n",
       "      <td>130.0</td>\n",
       "      <td>...</td>\n",
       "      <td>NaN</td>\n",
       "      <td>NaN</td>\n",
       "      <td>PER BIN</td>\n",
       "      <td>NaN</td>\n",
       "      <td>NaN</td>\n",
       "      <td>NaN</td>\n",
       "      <td>NaN</td>\n",
       "      <td>NaN</td>\n",
       "      <td>N</td>\n",
       "      <td>NaN</td>\n",
       "    </tr>\n",
       "    <tr>\n",
       "      <th>1</th>\n",
       "      <td>PUMPKINS</td>\n",
       "      <td>LOS ANGELES</td>\n",
       "      <td>NaN</td>\n",
       "      <td>24 inch bins</td>\n",
       "      <td>HOWDEN TYPE</td>\n",
       "      <td>NaN</td>\n",
       "      <td>NaN</td>\n",
       "      <td>09/24/2016</td>\n",
       "      <td>120.0</td>\n",
       "      <td>130.0</td>\n",
       "      <td>...</td>\n",
       "      <td>NaN</td>\n",
       "      <td>NaN</td>\n",
       "      <td>PER BIN</td>\n",
       "      <td>NaN</td>\n",
       "      <td>NaN</td>\n",
       "      <td>NaN</td>\n",
       "      <td>NaN</td>\n",
       "      <td>NaN</td>\n",
       "      <td>N</td>\n",
       "      <td>NaN</td>\n",
       "    </tr>\n",
       "    <tr>\n",
       "      <th>2</th>\n",
       "      <td>PUMPKINS</td>\n",
       "      <td>LOS ANGELES</td>\n",
       "      <td>NaN</td>\n",
       "      <td>24 inch bins</td>\n",
       "      <td>HOWDEN TYPE</td>\n",
       "      <td>NaN</td>\n",
       "      <td>NaN</td>\n",
       "      <td>10/01/2016</td>\n",
       "      <td>120.0</td>\n",
       "      <td>130.0</td>\n",
       "      <td>...</td>\n",
       "      <td>NaN</td>\n",
       "      <td>NaN</td>\n",
       "      <td>PER BIN</td>\n",
       "      <td>NaN</td>\n",
       "      <td>NaN</td>\n",
       "      <td>NaN</td>\n",
       "      <td>NaN</td>\n",
       "      <td>NaN</td>\n",
       "      <td>N</td>\n",
       "      <td>NaN</td>\n",
       "    </tr>\n",
       "    <tr>\n",
       "      <th>3</th>\n",
       "      <td>PUMPKINS</td>\n",
       "      <td>LOS ANGELES</td>\n",
       "      <td>NaN</td>\n",
       "      <td>24 inch bins</td>\n",
       "      <td>HOWDEN TYPE</td>\n",
       "      <td>NaN</td>\n",
       "      <td>NaN</td>\n",
       "      <td>10/01/2016</td>\n",
       "      <td>120.0</td>\n",
       "      <td>130.0</td>\n",
       "      <td>...</td>\n",
       "      <td>NaN</td>\n",
       "      <td>NaN</td>\n",
       "      <td>PER BIN</td>\n",
       "      <td>NaN</td>\n",
       "      <td>NaN</td>\n",
       "      <td>NaN</td>\n",
       "      <td>NaN</td>\n",
       "      <td>NaN</td>\n",
       "      <td>N</td>\n",
       "      <td>NaN</td>\n",
       "    </tr>\n",
       "    <tr>\n",
       "      <th>4</th>\n",
       "      <td>PUMPKINS</td>\n",
       "      <td>LOS ANGELES</td>\n",
       "      <td>NaN</td>\n",
       "      <td>24 inch bins</td>\n",
       "      <td>HOWDEN TYPE</td>\n",
       "      <td>NaN</td>\n",
       "      <td>NaN</td>\n",
       "      <td>10/08/2016</td>\n",
       "      <td>120.0</td>\n",
       "      <td>130.0</td>\n",
       "      <td>...</td>\n",
       "      <td>NaN</td>\n",
       "      <td>NaN</td>\n",
       "      <td>PER BIN</td>\n",
       "      <td>NaN</td>\n",
       "      <td>NaN</td>\n",
       "      <td>NaN</td>\n",
       "      <td>NaN</td>\n",
       "      <td>NaN</td>\n",
       "      <td>N</td>\n",
       "      <td>NaN</td>\n",
       "    </tr>\n",
       "  </tbody>\n",
       "</table>\n",
       "<p>5 rows × 25 columns</p>\n",
       "</div>"
      ],
      "text/plain": [
       "  Commodity Name    City Name  Type       Package      Variety Sub Variety  \\\n",
       "0       PUMPKINS  LOS ANGELES   NaN  24 inch bins  HOWDEN TYPE         NaN   \n",
       "1       PUMPKINS  LOS ANGELES   NaN  24 inch bins  HOWDEN TYPE         NaN   \n",
       "2       PUMPKINS  LOS ANGELES   NaN  24 inch bins  HOWDEN TYPE         NaN   \n",
       "3       PUMPKINS  LOS ANGELES   NaN  24 inch bins  HOWDEN TYPE         NaN   \n",
       "4       PUMPKINS  LOS ANGELES   NaN  24 inch bins  HOWDEN TYPE         NaN   \n",
       "\n",
       "   Grade        Date  Low Price  High Price  ...  Color  Environment  \\\n",
       "0    NaN  09/24/2016      120.0       130.0  ...    NaN          NaN   \n",
       "1    NaN  09/24/2016      120.0       130.0  ...    NaN          NaN   \n",
       "2    NaN  10/01/2016      120.0       130.0  ...    NaN          NaN   \n",
       "3    NaN  10/01/2016      120.0       130.0  ...    NaN          NaN   \n",
       "4    NaN  10/08/2016      120.0       130.0  ...    NaN          NaN   \n",
       "\n",
       "  Unit of Sale Quality Condition Appearance  Storage Crop  Repack  Trans Mode  \n",
       "0      PER BIN     NaN       NaN        NaN      NaN  NaN       N         NaN  \n",
       "1      PER BIN     NaN       NaN        NaN      NaN  NaN       N         NaN  \n",
       "2      PER BIN     NaN       NaN        NaN      NaN  NaN       N         NaN  \n",
       "3      PER BIN     NaN       NaN        NaN      NaN  NaN       N         NaN  \n",
       "4      PER BIN     NaN       NaN        NaN      NaN  NaN       N         NaN  \n",
       "\n",
       "[5 rows x 25 columns]"
      ]
     },
     "execution_count": 4,
     "metadata": {},
     "output_type": "execute_result"
    }
   ],
   "source": [
    "# Concat. the two dataframes\n",
    "\n",
    "data = pd.concat([df1, df2], ignore_index=True)\n",
    "print(data.shape)\n",
    "\n",
    "data.head()"
   ]
  },
  {
   "cell_type": "markdown",
   "metadata": {},
   "source": [
    "## Cleaning Data"
   ]
  },
  {
   "cell_type": "markdown",
   "metadata": {},
   "source": [
    "Re-name all column names so we can access all the column names easily."
   ]
  },
  {
   "cell_type": "code",
   "execution_count": 5,
   "metadata": {},
   "outputs": [
    {
     "data": {
      "text/html": [
       "<div>\n",
       "<style scoped>\n",
       "    .dataframe tbody tr th:only-of-type {\n",
       "        vertical-align: middle;\n",
       "    }\n",
       "\n",
       "    .dataframe tbody tr th {\n",
       "        vertical-align: top;\n",
       "    }\n",
       "\n",
       "    .dataframe thead th {\n",
       "        text-align: right;\n",
       "    }\n",
       "</style>\n",
       "<table border=\"1\" class=\"dataframe\">\n",
       "  <thead>\n",
       "    <tr style=\"text-align: right;\">\n",
       "      <th></th>\n",
       "      <th>Commodity_Name</th>\n",
       "      <th>City_Name</th>\n",
       "      <th>Type</th>\n",
       "      <th>Package</th>\n",
       "      <th>Variety</th>\n",
       "      <th>Sub_Variety</th>\n",
       "      <th>Grade</th>\n",
       "      <th>Date</th>\n",
       "      <th>Low_Price</th>\n",
       "      <th>High_Price</th>\n",
       "      <th>...</th>\n",
       "      <th>Color</th>\n",
       "      <th>Env</th>\n",
       "      <th>Unit_of_sale</th>\n",
       "      <th>Quality</th>\n",
       "      <th>Condition</th>\n",
       "      <th>Appearance</th>\n",
       "      <th>Storage</th>\n",
       "      <th>Crop</th>\n",
       "      <th>Repack</th>\n",
       "      <th>Trans_Model</th>\n",
       "    </tr>\n",
       "  </thead>\n",
       "  <tbody>\n",
       "    <tr>\n",
       "      <th>0</th>\n",
       "      <td>PUMPKINS</td>\n",
       "      <td>LOS ANGELES</td>\n",
       "      <td>NaN</td>\n",
       "      <td>24 inch bins</td>\n",
       "      <td>HOWDEN TYPE</td>\n",
       "      <td>NaN</td>\n",
       "      <td>NaN</td>\n",
       "      <td>09/24/2016</td>\n",
       "      <td>120.0</td>\n",
       "      <td>130.0</td>\n",
       "      <td>...</td>\n",
       "      <td>NaN</td>\n",
       "      <td>NaN</td>\n",
       "      <td>PER BIN</td>\n",
       "      <td>NaN</td>\n",
       "      <td>NaN</td>\n",
       "      <td>NaN</td>\n",
       "      <td>NaN</td>\n",
       "      <td>NaN</td>\n",
       "      <td>N</td>\n",
       "      <td>NaN</td>\n",
       "    </tr>\n",
       "    <tr>\n",
       "      <th>1</th>\n",
       "      <td>PUMPKINS</td>\n",
       "      <td>LOS ANGELES</td>\n",
       "      <td>NaN</td>\n",
       "      <td>24 inch bins</td>\n",
       "      <td>HOWDEN TYPE</td>\n",
       "      <td>NaN</td>\n",
       "      <td>NaN</td>\n",
       "      <td>09/24/2016</td>\n",
       "      <td>120.0</td>\n",
       "      <td>130.0</td>\n",
       "      <td>...</td>\n",
       "      <td>NaN</td>\n",
       "      <td>NaN</td>\n",
       "      <td>PER BIN</td>\n",
       "      <td>NaN</td>\n",
       "      <td>NaN</td>\n",
       "      <td>NaN</td>\n",
       "      <td>NaN</td>\n",
       "      <td>NaN</td>\n",
       "      <td>N</td>\n",
       "      <td>NaN</td>\n",
       "    </tr>\n",
       "    <tr>\n",
       "      <th>2</th>\n",
       "      <td>PUMPKINS</td>\n",
       "      <td>LOS ANGELES</td>\n",
       "      <td>NaN</td>\n",
       "      <td>24 inch bins</td>\n",
       "      <td>HOWDEN TYPE</td>\n",
       "      <td>NaN</td>\n",
       "      <td>NaN</td>\n",
       "      <td>10/01/2016</td>\n",
       "      <td>120.0</td>\n",
       "      <td>130.0</td>\n",
       "      <td>...</td>\n",
       "      <td>NaN</td>\n",
       "      <td>NaN</td>\n",
       "      <td>PER BIN</td>\n",
       "      <td>NaN</td>\n",
       "      <td>NaN</td>\n",
       "      <td>NaN</td>\n",
       "      <td>NaN</td>\n",
       "      <td>NaN</td>\n",
       "      <td>N</td>\n",
       "      <td>NaN</td>\n",
       "    </tr>\n",
       "    <tr>\n",
       "      <th>3</th>\n",
       "      <td>PUMPKINS</td>\n",
       "      <td>LOS ANGELES</td>\n",
       "      <td>NaN</td>\n",
       "      <td>24 inch bins</td>\n",
       "      <td>HOWDEN TYPE</td>\n",
       "      <td>NaN</td>\n",
       "      <td>NaN</td>\n",
       "      <td>10/01/2016</td>\n",
       "      <td>120.0</td>\n",
       "      <td>130.0</td>\n",
       "      <td>...</td>\n",
       "      <td>NaN</td>\n",
       "      <td>NaN</td>\n",
       "      <td>PER BIN</td>\n",
       "      <td>NaN</td>\n",
       "      <td>NaN</td>\n",
       "      <td>NaN</td>\n",
       "      <td>NaN</td>\n",
       "      <td>NaN</td>\n",
       "      <td>N</td>\n",
       "      <td>NaN</td>\n",
       "    </tr>\n",
       "    <tr>\n",
       "      <th>4</th>\n",
       "      <td>PUMPKINS</td>\n",
       "      <td>LOS ANGELES</td>\n",
       "      <td>NaN</td>\n",
       "      <td>24 inch bins</td>\n",
       "      <td>HOWDEN TYPE</td>\n",
       "      <td>NaN</td>\n",
       "      <td>NaN</td>\n",
       "      <td>10/08/2016</td>\n",
       "      <td>120.0</td>\n",
       "      <td>130.0</td>\n",
       "      <td>...</td>\n",
       "      <td>NaN</td>\n",
       "      <td>NaN</td>\n",
       "      <td>PER BIN</td>\n",
       "      <td>NaN</td>\n",
       "      <td>NaN</td>\n",
       "      <td>NaN</td>\n",
       "      <td>NaN</td>\n",
       "      <td>NaN</td>\n",
       "      <td>N</td>\n",
       "      <td>NaN</td>\n",
       "    </tr>\n",
       "  </tbody>\n",
       "</table>\n",
       "<p>5 rows × 25 columns</p>\n",
       "</div>"
      ],
      "text/plain": [
       "  Commodity_Name    City_Name  Type       Package      Variety Sub_Variety  \\\n",
       "0       PUMPKINS  LOS ANGELES   NaN  24 inch bins  HOWDEN TYPE         NaN   \n",
       "1       PUMPKINS  LOS ANGELES   NaN  24 inch bins  HOWDEN TYPE         NaN   \n",
       "2       PUMPKINS  LOS ANGELES   NaN  24 inch bins  HOWDEN TYPE         NaN   \n",
       "3       PUMPKINS  LOS ANGELES   NaN  24 inch bins  HOWDEN TYPE         NaN   \n",
       "4       PUMPKINS  LOS ANGELES   NaN  24 inch bins  HOWDEN TYPE         NaN   \n",
       "\n",
       "   Grade        Date  Low_Price  High_Price  ...  Color  Env Unit_of_sale  \\\n",
       "0    NaN  09/24/2016      120.0       130.0  ...    NaN  NaN      PER BIN   \n",
       "1    NaN  09/24/2016      120.0       130.0  ...    NaN  NaN      PER BIN   \n",
       "2    NaN  10/01/2016      120.0       130.0  ...    NaN  NaN      PER BIN   \n",
       "3    NaN  10/01/2016      120.0       130.0  ...    NaN  NaN      PER BIN   \n",
       "4    NaN  10/08/2016      120.0       130.0  ...    NaN  NaN      PER BIN   \n",
       "\n",
       "  Quality Condition Appearance  Storage Crop  Repack  Trans_Model  \n",
       "0     NaN       NaN        NaN      NaN  NaN       N          NaN  \n",
       "1     NaN       NaN        NaN      NaN  NaN       N          NaN  \n",
       "2     NaN       NaN        NaN      NaN  NaN       N          NaN  \n",
       "3     NaN       NaN        NaN      NaN  NaN       N          NaN  \n",
       "4     NaN       NaN        NaN      NaN  NaN       N          NaN  \n",
       "\n",
       "[5 rows x 25 columns]"
      ]
     },
     "execution_count": 5,
     "metadata": {},
     "output_type": "execute_result"
    }
   ],
   "source": [
    "# Re-naming the columns\n",
    "\n",
    "data.columns = ['Commodity_Name', 'City_Name', 'Type', 'Package', 'Variety','Sub_Variety', 'Grade', 'Date', 'Low_Price', 'High_Price', 'Mostly_low', 'Mosty_High', 'Origin', 'Origin_Dist', 'Item_Size', 'Color', 'Env', 'Unit_of_sale', 'Quality', 'Condition', 'Appearance', 'Storage', 'Crop', 'Repack', 'Trans_Model']\n",
    "\n",
    "data.head()"
   ]
  },
  {
   "cell_type": "markdown",
   "metadata": {},
   "source": [
    "Now, let's see the NaN values on our dataframe"
   ]
  },
  {
   "cell_type": "code",
   "execution_count": 6,
   "metadata": {},
   "outputs": [
    {
     "name": "stdout",
     "output_type": "stream",
     "text": [
      "----- NaN Values -----\n",
      "\n"
     ]
    },
    {
     "data": {
      "text/plain": [
       "Commodity_Name      0\n",
       "City_Name           0\n",
       "Type              174\n",
       "Package             0\n",
       "Variety             0\n",
       "Sub_Variety       150\n",
       "Grade             174\n",
       "Date                0\n",
       "Low_Price           0\n",
       "High_Price          0\n",
       "Mostly_low          0\n",
       "Mosty_High          0\n",
       "Origin              0\n",
       "Origin_Dist       128\n",
       "Item_Size          24\n",
       "Color             143\n",
       "Env               174\n",
       "Unit_of_sale       96\n",
       "Quality           174\n",
       "Condition         174\n",
       "Appearance        174\n",
       "Storage           174\n",
       "Crop              174\n",
       "Repack              0\n",
       "Trans_Model       174\n",
       "dtype: int64"
      ]
     },
     "execution_count": 6,
     "metadata": {},
     "output_type": "execute_result"
    }
   ],
   "source": [
    "print('----- NaN Values -----\\n')\n",
    "count_nan = len(data) - data.count()\n",
    "count_nan"
   ]
  },
  {
   "cell_type": "markdown",
   "metadata": {},
   "source": [
    "Many Columns have NaN, so they will not be needed in our analysis."
   ]
  },
  {
   "cell_type": "code",
   "execution_count": 7,
   "metadata": {},
   "outputs": [],
   "source": [
    "def delete(series):\n",
    "    \n",
    "     del data[series]\n",
    "\n",
    "delete('Sub_Variety')\n",
    "delete('Grade')\n",
    "delete('Type')\n",
    "delete('Color')\n",
    "delete('Env')\n",
    "delete('Quality')\n",
    "delete('Condition')\n",
    "delete('Appearance')\n",
    "delete('Storage')\n",
    "delete('Crop')\n",
    "delete('Trans_Model')\n",
    "delete('Repack')\n",
    "delete('Origin_Dist')"
   ]
  },
  {
   "cell_type": "code",
   "execution_count": 8,
   "metadata": {},
   "outputs": [
    {
     "data": {
      "text/html": [
       "<div>\n",
       "<style scoped>\n",
       "    .dataframe tbody tr th:only-of-type {\n",
       "        vertical-align: middle;\n",
       "    }\n",
       "\n",
       "    .dataframe tbody tr th {\n",
       "        vertical-align: top;\n",
       "    }\n",
       "\n",
       "    .dataframe thead th {\n",
       "        text-align: right;\n",
       "    }\n",
       "</style>\n",
       "<table border=\"1\" class=\"dataframe\">\n",
       "  <thead>\n",
       "    <tr style=\"text-align: right;\">\n",
       "      <th></th>\n",
       "      <th>Commodity_Name</th>\n",
       "      <th>City_Name</th>\n",
       "      <th>Package</th>\n",
       "      <th>Variety</th>\n",
       "      <th>Date</th>\n",
       "      <th>Low_Price</th>\n",
       "      <th>High_Price</th>\n",
       "      <th>Mostly_low</th>\n",
       "      <th>Mosty_High</th>\n",
       "      <th>Origin</th>\n",
       "      <th>Item_Size</th>\n",
       "      <th>Unit_of_sale</th>\n",
       "    </tr>\n",
       "  </thead>\n",
       "  <tbody>\n",
       "    <tr>\n",
       "      <th>0</th>\n",
       "      <td>PUMPKINS</td>\n",
       "      <td>LOS ANGELES</td>\n",
       "      <td>24 inch bins</td>\n",
       "      <td>HOWDEN TYPE</td>\n",
       "      <td>09/24/2016</td>\n",
       "      <td>120.0</td>\n",
       "      <td>130.0</td>\n",
       "      <td>120.0</td>\n",
       "      <td>130.0</td>\n",
       "      <td>CALIFORNIA</td>\n",
       "      <td>lge</td>\n",
       "      <td>PER BIN</td>\n",
       "    </tr>\n",
       "    <tr>\n",
       "      <th>1</th>\n",
       "      <td>PUMPKINS</td>\n",
       "      <td>LOS ANGELES</td>\n",
       "      <td>24 inch bins</td>\n",
       "      <td>HOWDEN TYPE</td>\n",
       "      <td>09/24/2016</td>\n",
       "      <td>120.0</td>\n",
       "      <td>130.0</td>\n",
       "      <td>120.0</td>\n",
       "      <td>130.0</td>\n",
       "      <td>CALIFORNIA</td>\n",
       "      <td>med</td>\n",
       "      <td>PER BIN</td>\n",
       "    </tr>\n",
       "    <tr>\n",
       "      <th>2</th>\n",
       "      <td>PUMPKINS</td>\n",
       "      <td>LOS ANGELES</td>\n",
       "      <td>24 inch bins</td>\n",
       "      <td>HOWDEN TYPE</td>\n",
       "      <td>10/01/2016</td>\n",
       "      <td>120.0</td>\n",
       "      <td>130.0</td>\n",
       "      <td>120.0</td>\n",
       "      <td>130.0</td>\n",
       "      <td>CALIFORNIA</td>\n",
       "      <td>lge</td>\n",
       "      <td>PER BIN</td>\n",
       "    </tr>\n",
       "    <tr>\n",
       "      <th>3</th>\n",
       "      <td>PUMPKINS</td>\n",
       "      <td>LOS ANGELES</td>\n",
       "      <td>24 inch bins</td>\n",
       "      <td>HOWDEN TYPE</td>\n",
       "      <td>10/01/2016</td>\n",
       "      <td>120.0</td>\n",
       "      <td>130.0</td>\n",
       "      <td>120.0</td>\n",
       "      <td>130.0</td>\n",
       "      <td>CALIFORNIA</td>\n",
       "      <td>med</td>\n",
       "      <td>PER BIN</td>\n",
       "    </tr>\n",
       "    <tr>\n",
       "      <th>4</th>\n",
       "      <td>PUMPKINS</td>\n",
       "      <td>LOS ANGELES</td>\n",
       "      <td>24 inch bins</td>\n",
       "      <td>HOWDEN TYPE</td>\n",
       "      <td>10/08/2016</td>\n",
       "      <td>120.0</td>\n",
       "      <td>130.0</td>\n",
       "      <td>120.0</td>\n",
       "      <td>130.0</td>\n",
       "      <td>CALIFORNIA</td>\n",
       "      <td>lge</td>\n",
       "      <td>PER BIN</td>\n",
       "    </tr>\n",
       "  </tbody>\n",
       "</table>\n",
       "</div>"
      ],
      "text/plain": [
       "  Commodity_Name    City_Name       Package      Variety        Date  \\\n",
       "0       PUMPKINS  LOS ANGELES  24 inch bins  HOWDEN TYPE  09/24/2016   \n",
       "1       PUMPKINS  LOS ANGELES  24 inch bins  HOWDEN TYPE  09/24/2016   \n",
       "2       PUMPKINS  LOS ANGELES  24 inch bins  HOWDEN TYPE  10/01/2016   \n",
       "3       PUMPKINS  LOS ANGELES  24 inch bins  HOWDEN TYPE  10/01/2016   \n",
       "4       PUMPKINS  LOS ANGELES  24 inch bins  HOWDEN TYPE  10/08/2016   \n",
       "\n",
       "   Low_Price  High_Price  Mostly_low  Mosty_High      Origin Item_Size  \\\n",
       "0      120.0       130.0       120.0       130.0  CALIFORNIA       lge   \n",
       "1      120.0       130.0       120.0       130.0  CALIFORNIA       med   \n",
       "2      120.0       130.0       120.0       130.0  CALIFORNIA       lge   \n",
       "3      120.0       130.0       120.0       130.0  CALIFORNIA       med   \n",
       "4      120.0       130.0       120.0       130.0  CALIFORNIA       lge   \n",
       "\n",
       "  Unit_of_sale  \n",
       "0      PER BIN  \n",
       "1      PER BIN  \n",
       "2      PER BIN  \n",
       "3      PER BIN  \n",
       "4      PER BIN  "
      ]
     },
     "execution_count": 8,
     "metadata": {},
     "output_type": "execute_result"
    }
   ],
   "source": [
    "data.head()"
   ]
  },
  {
   "cell_type": "markdown",
   "metadata": {},
   "source": [
    "### City Name Column"
   ]
  },
  {
   "cell_type": "markdown",
   "metadata": {},
   "source": [
    "We will replace categorical values to numeric values so then we can compute them."
   ]
  },
  {
   "cell_type": "code",
   "execution_count": 9,
   "metadata": {},
   "outputs": [
    {
     "data": {
      "text/plain": [
       "0    0\n",
       "1    0\n",
       "2    0\n",
       "3    0\n",
       "4    0\n",
       "Name: City_Name, dtype: object"
      ]
     },
     "execution_count": 9,
     "metadata": {},
     "output_type": "execute_result"
    }
   ],
   "source": [
    "# Replacing City_Name values to numeric values\n",
    "\n",
    "data[['City_Name']] = data.City_Name.str.replace('LOS ANGELES', '0')\n",
    "data[['City_Name']] = data.City_Name.str.replace('NEW YORK', '1')\n",
    "\n",
    "data['City_Name'].head()"
   ]
  },
  {
   "cell_type": "code",
   "execution_count": 10,
   "metadata": {},
   "outputs": [],
   "source": [
    "# Set Int to all string values of the City Name column\n",
    "\n",
    "data['City_Name'] = data['City_Name'].astype(int)"
   ]
  },
  {
   "cell_type": "markdown",
   "metadata": {},
   "source": [
    "### Item Size Column"
   ]
  },
  {
   "cell_type": "markdown",
   "metadata": {},
   "source": [
    "We will do the same with Item Size...\n",
    "\n",
    "As first step, we will see the unique values that this column have."
   ]
  },
  {
   "cell_type": "code",
   "execution_count": 11,
   "metadata": {},
   "outputs": [
    {
     "data": {
      "text/plain": [
       "array(['lge', 'med', 'med-lge', 'sml', nan, 'xlge', 'exjbo'], dtype=object)"
      ]
     },
     "execution_count": 11,
     "metadata": {},
     "output_type": "execute_result"
    }
   ],
   "source": [
    "data.Item_Size.unique()"
   ]
  },
  {
   "cell_type": "code",
   "execution_count": 12,
   "metadata": {},
   "outputs": [],
   "source": [
    "# Replacing Item Size values to numeric values\n",
    "\n",
    "data[['Item_Size']] = data.Item_Size.str.replace('lge', '0')   \n",
    "data[['Item_Size']] = data.Item_Size.str.replace('med', '1')\n",
    "data[['Item_Size']] = data.Item_Size.str.replace('med-lge', '2') \n",
    "data[['Item_Size']] = data.Item_Size.str.replace('sml', '3')\n",
    "data[['Item_Size']] = data.Item_Size.str.replace('xlge', '4')\n",
    "data[['Item_Size']] = data.Item_Size.str.replace('exjbo', '5')"
   ]
  },
  {
   "cell_type": "code",
   "execution_count": 13,
   "metadata": {},
   "outputs": [
    {
     "data": {
      "text/plain": [
       "array(['0', '1', '1-0', '3', nan, 'x0', '5'], dtype=object)"
      ]
     },
     "execution_count": 13,
     "metadata": {},
     "output_type": "execute_result"
    }
   ],
   "source": [
    "data.Item_Size.unique()"
   ]
  },
  {
   "cell_type": "code",
   "execution_count": 14,
   "metadata": {},
   "outputs": [],
   "source": [
    "data[['Item_Size']] = data.Item_Size.str.replace('1-0', '2')\n",
    "data[['Item_Size']] = data.Item_Size.str.replace('x0', '4')"
   ]
  },
  {
   "cell_type": "code",
   "execution_count": 15,
   "metadata": {},
   "outputs": [
    {
     "data": {
      "text/plain": [
       "array(['0', '1', '2', '3', nan, '4', '5'], dtype=object)"
      ]
     },
     "execution_count": 15,
     "metadata": {},
     "output_type": "execute_result"
    }
   ],
   "source": [
    "data.Item_Size.unique()"
   ]
  },
  {
   "cell_type": "markdown",
   "metadata": {},
   "source": [
    "We will drop all remaining Nan's in the dataset"
   ]
  },
  {
   "cell_type": "code",
   "execution_count": 16,
   "metadata": {},
   "outputs": [],
   "source": [
    "data.dropna(subset=['Item_Size'],inplace = True )"
   ]
  },
  {
   "cell_type": "code",
   "execution_count": 17,
   "metadata": {},
   "outputs": [
    {
     "data": {
      "text/plain": [
       "array(['0', '1', '2', '3', '4', '5'], dtype=object)"
      ]
     },
     "execution_count": 17,
     "metadata": {},
     "output_type": "execute_result"
    }
   ],
   "source": [
    "data.Item_Size.unique()"
   ]
  },
  {
   "cell_type": "markdown",
   "metadata": {},
   "source": [
    "We will set all string values to int values in the Size item column"
   ]
  },
  {
   "cell_type": "code",
   "execution_count": 18,
   "metadata": {},
   "outputs": [],
   "source": [
    "data['Item_Size'] = data['Item_Size'].astype(int)"
   ]
  },
  {
   "cell_type": "code",
   "execution_count": 19,
   "metadata": {},
   "outputs": [
    {
     "data": {
      "text/html": [
       "<div>\n",
       "<style scoped>\n",
       "    .dataframe tbody tr th:only-of-type {\n",
       "        vertical-align: middle;\n",
       "    }\n",
       "\n",
       "    .dataframe tbody tr th {\n",
       "        vertical-align: top;\n",
       "    }\n",
       "\n",
       "    .dataframe thead th {\n",
       "        text-align: right;\n",
       "    }\n",
       "</style>\n",
       "<table border=\"1\" class=\"dataframe\">\n",
       "  <thead>\n",
       "    <tr style=\"text-align: right;\">\n",
       "      <th></th>\n",
       "      <th>Commodity_Name</th>\n",
       "      <th>City_Name</th>\n",
       "      <th>Package</th>\n",
       "      <th>Variety</th>\n",
       "      <th>Date</th>\n",
       "      <th>Low_Price</th>\n",
       "      <th>High_Price</th>\n",
       "      <th>Mostly_low</th>\n",
       "      <th>Mosty_High</th>\n",
       "      <th>Origin</th>\n",
       "      <th>Item_Size</th>\n",
       "      <th>Unit_of_sale</th>\n",
       "    </tr>\n",
       "  </thead>\n",
       "  <tbody>\n",
       "    <tr>\n",
       "      <th>0</th>\n",
       "      <td>PUMPKINS</td>\n",
       "      <td>0</td>\n",
       "      <td>24 inch bins</td>\n",
       "      <td>HOWDEN TYPE</td>\n",
       "      <td>09/24/2016</td>\n",
       "      <td>120.0</td>\n",
       "      <td>130.0</td>\n",
       "      <td>120.0</td>\n",
       "      <td>130.0</td>\n",
       "      <td>CALIFORNIA</td>\n",
       "      <td>0</td>\n",
       "      <td>PER BIN</td>\n",
       "    </tr>\n",
       "    <tr>\n",
       "      <th>1</th>\n",
       "      <td>PUMPKINS</td>\n",
       "      <td>0</td>\n",
       "      <td>24 inch bins</td>\n",
       "      <td>HOWDEN TYPE</td>\n",
       "      <td>09/24/2016</td>\n",
       "      <td>120.0</td>\n",
       "      <td>130.0</td>\n",
       "      <td>120.0</td>\n",
       "      <td>130.0</td>\n",
       "      <td>CALIFORNIA</td>\n",
       "      <td>1</td>\n",
       "      <td>PER BIN</td>\n",
       "    </tr>\n",
       "    <tr>\n",
       "      <th>2</th>\n",
       "      <td>PUMPKINS</td>\n",
       "      <td>0</td>\n",
       "      <td>24 inch bins</td>\n",
       "      <td>HOWDEN TYPE</td>\n",
       "      <td>10/01/2016</td>\n",
       "      <td>120.0</td>\n",
       "      <td>130.0</td>\n",
       "      <td>120.0</td>\n",
       "      <td>130.0</td>\n",
       "      <td>CALIFORNIA</td>\n",
       "      <td>0</td>\n",
       "      <td>PER BIN</td>\n",
       "    </tr>\n",
       "    <tr>\n",
       "      <th>3</th>\n",
       "      <td>PUMPKINS</td>\n",
       "      <td>0</td>\n",
       "      <td>24 inch bins</td>\n",
       "      <td>HOWDEN TYPE</td>\n",
       "      <td>10/01/2016</td>\n",
       "      <td>120.0</td>\n",
       "      <td>130.0</td>\n",
       "      <td>120.0</td>\n",
       "      <td>130.0</td>\n",
       "      <td>CALIFORNIA</td>\n",
       "      <td>1</td>\n",
       "      <td>PER BIN</td>\n",
       "    </tr>\n",
       "    <tr>\n",
       "      <th>4</th>\n",
       "      <td>PUMPKINS</td>\n",
       "      <td>0</td>\n",
       "      <td>24 inch bins</td>\n",
       "      <td>HOWDEN TYPE</td>\n",
       "      <td>10/08/2016</td>\n",
       "      <td>120.0</td>\n",
       "      <td>130.0</td>\n",
       "      <td>120.0</td>\n",
       "      <td>130.0</td>\n",
       "      <td>CALIFORNIA</td>\n",
       "      <td>0</td>\n",
       "      <td>PER BIN</td>\n",
       "    </tr>\n",
       "  </tbody>\n",
       "</table>\n",
       "</div>"
      ],
      "text/plain": [
       "  Commodity_Name  City_Name       Package      Variety        Date  Low_Price  \\\n",
       "0       PUMPKINS          0  24 inch bins  HOWDEN TYPE  09/24/2016      120.0   \n",
       "1       PUMPKINS          0  24 inch bins  HOWDEN TYPE  09/24/2016      120.0   \n",
       "2       PUMPKINS          0  24 inch bins  HOWDEN TYPE  10/01/2016      120.0   \n",
       "3       PUMPKINS          0  24 inch bins  HOWDEN TYPE  10/01/2016      120.0   \n",
       "4       PUMPKINS          0  24 inch bins  HOWDEN TYPE  10/08/2016      120.0   \n",
       "\n",
       "   High_Price  Mostly_low  Mosty_High      Origin  Item_Size Unit_of_sale  \n",
       "0       130.0       120.0       130.0  CALIFORNIA          0      PER BIN  \n",
       "1       130.0       120.0       130.0  CALIFORNIA          1      PER BIN  \n",
       "2       130.0       120.0       130.0  CALIFORNIA          0      PER BIN  \n",
       "3       130.0       120.0       130.0  CALIFORNIA          1      PER BIN  \n",
       "4       130.0       120.0       130.0  CALIFORNIA          0      PER BIN  "
      ]
     },
     "execution_count": 19,
     "metadata": {},
     "output_type": "execute_result"
    }
   ],
   "source": [
    "data.head()"
   ]
  },
  {
   "cell_type": "code",
   "execution_count": 20,
   "metadata": {},
   "outputs": [
    {
     "data": {
      "text/plain": [
       "0      130.0\n",
       "1      130.0\n",
       "2      130.0\n",
       "3      130.0\n",
       "4      130.0\n",
       "       ...  \n",
       "169     32.0\n",
       "170     18.0\n",
       "171     18.0\n",
       "172     18.0\n",
       "173     18.0\n",
       "Name: High_Price, Length: 150, dtype: float64"
      ]
     },
     "execution_count": 20,
     "metadata": {},
     "output_type": "execute_result"
    }
   ],
   "source": [
    "data['High_Price']"
   ]
  },
  {
   "cell_type": "code",
   "execution_count": 21,
   "metadata": {},
   "outputs": [
    {
     "data": {
      "text/plain": [
       "0      0\n",
       "1      1\n",
       "2      0\n",
       "3      1\n",
       "4      0\n",
       "      ..\n",
       "169    3\n",
       "170    1\n",
       "171    3\n",
       "172    1\n",
       "173    3\n",
       "Name: Item_Size, Length: 150, dtype: int32"
      ]
     },
     "execution_count": 21,
     "metadata": {},
     "output_type": "execute_result"
    }
   ],
   "source": [
    "data['Item_Size']"
   ]
  },
  {
   "cell_type": "markdown",
   "metadata": {},
   "source": [
    "### After Cleaning and Imputation"
   ]
  },
  {
   "cell_type": "markdown",
   "metadata": {},
   "source": [
    "Let's see the shape of our features..."
   ]
  },
  {
   "cell_type": "code",
   "execution_count": 22,
   "metadata": {},
   "outputs": [
    {
     "name": "stdout",
     "output_type": "stream",
     "text": [
      "Item Size shape: \n",
      " (150,)\n"
     ]
    }
   ],
   "source": [
    "print('Item Size shape: \\n', data.Item_Size.shape)"
   ]
  },
  {
   "cell_type": "markdown",
   "metadata": {},
   "source": [
    "So as we can see in the cell above, we have 69 rows but no columns... We need to add a new axis (column) to continue with our analysis."
   ]
  },
  {
   "cell_type": "code",
   "execution_count": 23,
   "metadata": {},
   "outputs": [
    {
     "data": {
      "text/plain": [
       "(150, 1)"
      ]
     },
     "execution_count": 23,
     "metadata": {},
     "output_type": "execute_result"
    }
   ],
   "source": [
    "# Adding a new a axis to the item size column\n",
    "\n",
    "x_s = np.array(data['Item_Size'])[np.newaxis].T\n",
    "\n",
    "x_s.shape"
   ]
  },
  {
   "cell_type": "markdown",
   "metadata": {},
   "source": [
    "Let's see the High Price feature now..."
   ]
  },
  {
   "cell_type": "code",
   "execution_count": 24,
   "metadata": {},
   "outputs": [
    {
     "name": "stdout",
     "output_type": "stream",
     "text": [
      "High Price shape: \n",
      " (150,)\n"
     ]
    }
   ],
   "source": [
    "print('High Price shape: \\n', data.High_Price.shape)"
   ]
  },
  {
   "cell_type": "markdown",
   "metadata": {},
   "source": [
    "Yes, we have the same problem, so we need to do the same."
   ]
  },
  {
   "cell_type": "code",
   "execution_count": 25,
   "metadata": {},
   "outputs": [
    {
     "data": {
      "text/plain": [
       "(150, 1)"
      ]
     },
     "execution_count": 25,
     "metadata": {},
     "output_type": "execute_result"
    }
   ],
   "source": [
    "# Adding a new a axis to the high price column\n",
    "\n",
    "y_s = np.array(data['High_Price'])[np.newaxis].T\n",
    "\n",
    "y_s.shape"
   ]
  },
  {
   "cell_type": "markdown",
   "metadata": {},
   "source": [
    "So now we have our 2 features ready to be computed."
   ]
  },
  {
   "cell_type": "markdown",
   "metadata": {},
   "source": [
    "## Scatter Plot"
   ]
  },
  {
   "cell_type": "code",
   "execution_count": 26,
   "metadata": {},
   "outputs": [
    {
     "data": {
      "text/plain": [
       "<matplotlib.collections.PathCollection at 0xcff39d0>"
      ]
     },
     "execution_count": 26,
     "metadata": {},
     "output_type": "execute_result"
    },
    {
     "data": {
      "image/png": "[encoded data removed]",
      "text/plain": [
       "<Figure size 432x288 with 1 Axes>"
      ]
     },
     "metadata": {
      "needs_background": "light"
     },
     "output_type": "display_data"
    }
   ],
   "source": [
    "plt.scatter(x_s,y_s)"
   ]
  },
  {
   "cell_type": "markdown",
   "metadata": {},
   "source": [
    "## Gradient Descent"
   ]
  },
  {
   "cell_type": "markdown",
   "metadata": {},
   "source": [
    "Those are going to be some functions and terms that our Gradient function are going to use... so this will make a little easier to understand."
   ]
  },
  {
   "cell_type": "markdown",
   "metadata": {},
   "source": [
    "Functions and terms: \n",
    "\n",
    "    np.random.randn: \n",
    "        Create an array of the given shape and populate it with random \n",
    "        samples from a uniform distribution over [0, 1).\n",
    "\n",
    "    np.linalg.inv: \n",
    "        Compute the (multiplicative) inverse of a matrix.\n",
    "\n",
    "    .dot:\n",
    "        Dot product of two arrays.\n",
    "\n",
    "    .T:\n",
    "        The transposed array.\n",
    "\n",
    "    Learning rate - Alpha: \n",
    "        Size of steps took in any direction.\n",
    "    \n",
    "    Cost Function:\n",
    "        Cost of the model.\n",
    "    \n",
    "    Gradients:\n",
    "        The direction of the steps.\n",
    "    \n",
    "    m:\n",
    "        Number of observations"
   ]
  },
  {
   "cell_type": "markdown",
   "metadata": {},
   "source": [
    "### Cost Function"
   ]
  },
  {
   "cell_type": "code",
   "execution_count": 27,
   "metadata": {},
   "outputs": [],
   "source": [
    "def cost(x, y, theta):\n",
    "    '''\n",
    "    Calculates the cost for given X and Y. \n",
    "\n",
    "    theta:\n",
    "        Vector.\n",
    "    x:\n",
    "        Row vector \n",
    "    y: \n",
    "        Vector\n",
    "\n",
    "    pred: \n",
    "        # h(theta), Nos da todas las hipotesis\n",
    "    '''\n",
    "\n",
    "    m = len(y)\n",
    "\n",
    "    pred = x.dot(theta)\n",
    "    f_cost = (1 / 2 * m) * np.sum(np.square(pred - y))\n",
    "\n",
    "    return f_cost"
   ]
  },
  {
   "cell_type": "markdown",
   "metadata": {},
   "source": [
    "### Gradient Descent Function"
   ]
  },
  {
   "cell_type": "code",
   "execution_count": 28,
   "metadata": {},
   "outputs": [],
   "source": [
    "def gradient_descent(x, y, theta, alpha, max_it):\n",
    "    '''\n",
    "    Returns the final theta vector.\n",
    "\n",
    "    alpha: \n",
    "        Learning rate\n",
    "    X:\n",
    "        Matrix of X with added bias.\n",
    "        dim :\n",
    "            m,2\n",
    "    Y: \n",
    "        Vector of Y\n",
    "\n",
    "    theta:\n",
    "        dim: \n",
    "            m,1 \n",
    "    '''\n",
    "\n",
    "    m = len(y)\n",
    "\n",
    "    cost_history = np.zeros(max_it)\n",
    "    #alm_theta = np.zeros((max_it, 2))\n",
    "\n",
    "    for i in range(max_it):\n",
    "\n",
    "        pred = np.dot(x, theta)\n",
    "\n",
    "        theta = theta - alpha * ((1 / m) * (x.T.dot((pred - y))))\n",
    "        #alm_theta[i, :] = theta.T\n",
    "        cost_history[i] = cost(x, y, theta)\n",
    "\n",
    "    return theta"
   ]
  },
  {
   "cell_type": "markdown",
   "metadata": {},
   "source": [
    "### Data"
   ]
  },
  {
   "cell_type": "code",
   "execution_count": 31,
   "metadata": {},
   "outputs": [
    {
     "name": "stdout",
     "output_type": "stream",
     "text": [
      "Theta: \n",
      " [[142.70951529]\n",
      " [-15.59058692]]\n"
     ]
    }
   ],
   "source": [
    "alpha = 0.001\n",
    "max_it = 100000\n",
    "\n",
    "X_vStack = np.c_[np.ones((len(x_s), 1)), x_s]\n",
    "\n",
    "f, c = X_vStack.shape\n",
    "\n",
    "theta = np.random.rand(c, 1)\n",
    "\n",
    "j = gradient_descent(X_vStack, y_s, theta, alpha, max_it)\n",
    "\n",
    "print(\"Theta: \\n\", j)"
   ]
  },
  {
   "cell_type": "markdown",
   "metadata": {},
   "source": [
    "### Data Visualization"
   ]
  },
  {
   "cell_type": "code",
   "execution_count": 32,
   "metadata": {},
   "outputs": [
    {
     "data": {
      "image/png": "[encoded data removed]",
      "text/plain": [
       "<Figure size 432x288 with 1 Axes>"
      ]
     },
     "metadata": {
      "needs_background": "light"
     },
     "output_type": "display_data"
    }
   ],
   "source": [
    "plt.scatter(x_s,y_s)\n",
    "y = j[1] * x_s + j[0]\n",
    "plt.plot(x_s, y, '-r')\n",
    "plt.xlabel(\"$Item Size$\", fontsize=12)\n",
    "plt.ylabel(\"$Price$\", fontsize=12)\n",
    "\n",
    "plt.show()"
   ]
  }
 ],
 "metadata": {
  "kernelspec": {
   "display_name": "Python 3",
   "language": "python",
   "name": "python3"
  },
  "language_info": {
   "codemirror_mode": {
    "name": "ipython",
    "version": 3
   },
   "file_extension": ".py",
   "mimetype": "text/x-python",
   "name": "python",
   "nbconvert_exporter": "python",
   "pygments_lexer": "ipython3",
   "version": "3.7.1"
  }
 },
 "nbformat": 4,
 "nbformat_minor": 4
}
